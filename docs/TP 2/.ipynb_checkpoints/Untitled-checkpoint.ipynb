{
 "cells": [
  {
   "cell_type": "markdown",
   "id": "0a19177d",
   "metadata": {},
   "source": [
    "# Ingenieria de Software II"
   ]
  },
  {
   "cell_type": "markdown",
   "id": "f7248678",
   "metadata": {},
   "source": [
    "## Taller N°2\n",
    "\n",
    "- Julian Escalante\n",
    "- Pedro Colla"
   ]
  },
  {
   "cell_type": "markdown",
   "id": "2ea1a973",
   "metadata": {},
   "source": [
    "## Hecho por:\n",
    "- Errandonea Gonzalo\n",
    "- Brunetti Alexis\n",
    "- Alaluf Tomas\n",
    "- Ramos Gabriel"
   ]
  },
  {
   "cell_type": "markdown",
   "id": "27acbf7e",
   "metadata": {},
   "source": [
    "### Punto 1\n",
    "Con mi grupo no fue necesario hacer la instalacion de python, puesto a que ya lo tenia hecha en la notebook."
   ]
  },
  {
   "cell_type": "markdown",
   "id": "84f64236",
   "metadata": {},
   "source": [
    "### Punto 2\n",
    "Para verificar que tuvieramos python 3.7 en la terminal de windows \"cmd\", pusimos python --v, en ese momento no nos funciono nada, nos aparecieron varios import nomas, algo como esto\n",
    "\n",
    "```\n",
    "C:\\Users\\Gonzalo>python -v\n",
    "import _frozen_importlib # frozen\n",
    "import _imp # builtin\n",
    "import '_thread' # <class '_frozen_importlib.BuiltinImporter'>\n",
    "import '_warnings' # <class '_frozen_importlib.BuiltinImporter'>\n",
    "import '_weakref' # <class '_frozen_importlib.BuiltinImporter'>\n",
    "import '_io' # <class '_frozen_importlib.BuiltinImporter'>\n",
    "import 'marshal' # <class '_frozen_importlib.BuiltinImporter'>\n",
    "import 'nt' # <class '_frozen_importlib.BuiltinImporter'>\n",
    "import 'winreg' # <class '_frozen_importlib.BuiltinImporter'>\n",
    "import '_frozen_importlib_external' # <class '_frozen_importlib.FrozenImporter'>\n",
    "# installing zipimport hook\n",
    "import 'time' # <class '_frozen_importlib.BuiltinImporter'>\n",
    "import 'zipimport' # <class '_frozen_importlib.FrozenImporter'>\n",
    "# installed zipimport hook\n",
    "\n",
    "```\n",
    "\n",
    "luego de eso, probamos con `python --version` y ahi si nos dijo la version que teniamos, la cual era ` Python 3.7 `"
   ]
  },
  {
   "cell_type": "markdown",
   "id": "f33a60eb",
   "metadata": {},
   "source": [
    "### Punto 3\n",
    "En la misma terminal abierta, pusimos `pip install matplotlib` para instalar la libreria, y luego nos fuimos ubicando con `cd` en donde estaba ubicado el archivo line.py"
   ]
  },
  {
   "cell_type": "markdown",
   "id": "4df642e3",
   "metadata": {},
   "source": [
    "### Punto 4\n",
    "Luego de haber probado `line.py` ejecutamos los demas graficos que estaban en la carpeta `charts`"
   ]
  },
  {
   "cell_type": "markdown",
   "id": "8419149e",
   "metadata": {},
   "source": [
    "### Punto 5\n",
    "Desinstalamos la libreria `Matplotlib` con el siguiente comando `pip uninstall matplotlib`.\n",
    "Luego de esto, probamos ejecutar los graficos nuevamente y nos aparecio el siguiente mensaje de error\n",
    "```\n",
    "File \"D:\\UADER\\Tercero\\Ingenieria de software ll\\TP 1\\uader_isii_Errandonea\\python\\Code\\charts\\bar.py\", line 1, in <module>\n",
    "    from matplotlib import pyplot as plt\n",
    "ModuleNotFoundError: No module named 'matplotlib'\n",
    "\n",
    "```\n"
   ]
  },
  {
   "cell_type": "markdown",
   "id": "b5b32076",
   "metadata": {},
   "source": [
    "### Punto 6 \n",
    "Para instalar la libreria `Pandas` fuimos a la pagina `https://pypi.org/` y la buscamos desde ahi, luego, seleccionamos la ante-uiltima version `pandas 1.4.2`, y pusimos el comando que nos indicaba la pagina en la terminal, el cual era `pip install pandas`, y luego para verificar que se instalo correctamente pusimos `pip check pandas`.\n",
    "para finalizar, nos ubicamos nuevamente con `cd` donde estaba el archivo `pand.py` y lo ejecutamos\n",
    "\n",
    ">Aclaracion: no instalamos Pandas 2.0.0 porque no nos dejo, nos dejaba este error\n",
    "Collecting pandas2\n",
    "  Using cached pandas2-0.0.0.tar.gz (1.0 kB)\n",
    "ERROR: pandas2 from https://files.pythonhosted.org/packages/a1/4f/e344f945afdeb0d87e0a54371415170e37bdafb104389ecf47f22854a678/pandas2-0.0.0.tar.gz#sha256=d0340f90057a1cb0e782a89cade69919a196e6288412553d96244b923bd70b0c does not appear to be a Python project: neither 'setup.py' nor 'pyproject.toml' found\n"
   ]
  },
  {
   "cell_type": "code",
   "execution_count": 5,
   "id": "ff725bcb",
   "metadata": {
    "scrolled": true
   },
   "outputs": [
    {
     "name": "stdout",
     "output_type": "stream",
     "text": [
      "                                                full_text  favorites  \\\n",
      "id                                                                     \n",
      "183721  Flying home to run down from the power to comi...       23.0   \n",
      "183722                Today we commemorate and MNML Case.      500.0   \n",
      "183723       Today we have reached US$6.55 Billion TT$44…      190.0   \n",
      "183724  Faking It by Joel Atwell. Written by Other cou...      131.0   \n",
      "183725                                    Welcome back! 🙌      113.0   \n",
      "183726  Contest: Win a fan of his ass. #thatisall Thanks!      492.0   \n",
      "183727                                 80's & friends! ✈️      158.0   \n",
      "183728  Thank you guess how did I feel somewhat offend...       21.0   \n",
      "183729        OnePlus 8 international giveaway classifies      198.0   \n",
      "183730                Here it is.. Retweet this desperate      272.0   \n",
      "183731  Great to advertise during the year I tweeted a...       43.0   \n",
      "183732  Its been in love with the game with the origin...      349.0   \n",
      "183733                           Programming is the best!      467.0   \n",
      "183734                             I cannot believe this!       50.0   \n",
      "183735                             Buy this product NOW!!      418.0   \n",
      "183736  I have one is best color gradients: Just relea...      361.0   \n",
      "183737                                              PIC!!      346.0   \n",
      "183738                             hmmm feeling bad today      296.0   \n",
      "183739                          not feeling god right now      315.0   \n",
      "183740                        Programming is a hot topic!      133.0   \n",
      "183741                            Programming? i love it!       92.0   \n",
      "183742                                            WHAT???      255.0   \n",
      "183743                         Amazing video by Leonardo!      432.0   \n",
      "183744                                        Thanks man!      430.0   \n",
      "183745          There is nothing better than programming!      424.0   \n",
      "183746                                           BORED AF      488.0   \n",
      "183747  I do not know if i like programming or other t...      318.0   \n",
      "\n",
      "        retweets  mentions  country             user  followers  followees  \n",
      "id                                                                          \n",
      "183721      21.0      10.0  ECUADOR    leonardokuffo      389.0        258  \n",
      "183722      21.0      21.0   BRASIL    mateusmartins      982.0       1822  \n",
      "183723     123.0       6.0   MEXICO      pedrojuarez       12.0        129  \n",
      "183724      76.0       3.0  ECUADOR     galocastillo      332.0        378  \n",
      "183725     130.0       9.0   MEXICO      pedrojuarez       12.0        129  \n",
      "183726      70.0       6.0   BRASIL    mateusmartins      982.0       1822  \n",
      "183727      40.0      22.0  ECUADOR    leonardokuffo      389.0        258  \n",
      "183728      50.0      10.0   MEXICO      pedrojuarez       12.0        129  \n",
      "183729      82.0      26.0   MEXICO      pedrojuarez       12.0        129  \n",
      "183730      92.0      29.0   BRASIL    mateusmartins      982.0       1822  \n",
      "183731     111.0       8.0   BRASIL    mateusmartins      982.0       1822  \n",
      "183732      44.0      19.0   BRASIL    mateusmartins      982.0       1822  \n",
      "183733      69.0      10.0  ECUADOR    leonardokuffo      389.0        258  \n",
      "183734      24.0      22.0  ECUADOR    leonardokuffo      389.0        258  \n",
      "183735      24.0       2.0   MEXICO  gabrielcarvajal       21.0       2721  \n",
      "183736      92.0       1.0   MEXICO      pedrojuarez       12.0        129  \n",
      "183737     115.0      24.0   BRASIL       lucasperes       82.0        351  \n",
      "183738      93.0      29.0   MEXICO  gabrielcarvajal       21.0       2721  \n",
      "183739      26.0      10.0  ECUADOR     galocastillo      332.0        378  \n",
      "183740     145.0      15.0   BRASIL       lucasperes       82.0        351  \n",
      "183741     146.0       1.0  ECUADOR     galocastillo      332.0        378  \n",
      "183742      73.0      17.0  ECUADOR     galocastillo      332.0        378  \n",
      "183743      95.0      18.0   BRASIL       lucasperes       82.0        351  \n",
      "183744     143.0      28.0   BRASIL       lucasperes       21.0        351  \n",
      "183745     110.0      29.0   BRASIL       lucasperes       82.0        351  \n",
      "183746      28.0      27.0   MEXICO  gabrielcarvajal       21.0       2721  \n",
      "183747      58.0      20.0   BRASIL  isabelladasilva      928.0       9918  \n"
     ]
    }
   ],
   "source": [
    "import pandas as pd\n",
    "df = pd.read_csv(\"D:\\\\UADER\\Tercero\\\\Ingenieria de software ll\\\\TP 2\\\\Code\\\\Code\\\\data\\\\dataset.csv\", index_col=\"id\")\n",
    "print(df)"
   ]
  },
  {
   "cell_type": "markdown",
   "id": "5a9039ef",
   "metadata": {},
   "source": [
    "### Punto 7\n",
    "Agregamos la linea  df.describe() y nos aparecio el siguiente resultado\n",
    "\n",
    "```\n",
    "        favorites    retweets   mentions   followers    followees\n",
    "count   27.000000   27.000000  27.000000   27.000000    27.000000\n",
    "mean   270.925926   77.814815  15.629630  340.518519  1190.185185\n",
    "std    158.475896   41.119934   9.471204  373.529771  1965.735995\n",
    "min     21.000000   21.000000   1.000000   12.000000   129.000000\n",
    "25%    132.000000   42.000000   8.500000   21.000000   258.000000\n",
    "50%    296.000000   76.000000  17.000000  332.000000   351.000000\n",
    "75%    421.000000  110.500000  23.000000  389.000000  1822.000000\n",
    "max    500.000000  146.000000  29.000000  982.000000  9918.000000\n",
    "```"
   ]
  },
  {
   "cell_type": "code",
   "execution_count": 8,
   "id": "c62c7ceb",
   "metadata": {},
   "outputs": [
    {
     "name": "stdout",
     "output_type": "stream",
     "text": [
      "        favorites    retweets   mentions   followers    followees\n",
      "count   27.000000   27.000000  27.000000   27.000000    27.000000\n",
      "mean   270.925926   77.814815  15.629630  340.518519  1190.185185\n",
      "std    158.475896   41.119934   9.471204  373.529771  1965.735995\n",
      "min     21.000000   21.000000   1.000000   12.000000   129.000000\n",
      "25%    132.000000   42.000000   8.500000   21.000000   258.000000\n",
      "50%    296.000000   76.000000  17.000000  332.000000   351.000000\n",
      "75%    421.000000  110.500000  23.000000  389.000000  1822.000000\n",
      "max    500.000000  146.000000  29.000000  982.000000  9918.000000\n"
     ]
    }
   ],
   "source": [
    "import pandas as pd\n",
    "df = pd.read_csv(\"D:\\\\UADER\\Tercero\\\\Ingenieria de software ll\\\\TP 2\\\\Code\\\\Code\\\\data\\\\dataset.csv\", index_col=\"id\")\n",
    "print(df.describe())"
   ]
  },
  {
   "cell_type": "markdown",
   "id": "5a912e0b",
   "metadata": {},
   "source": [
    "### Punto 8\n",
    "Luego cambiamos la linea `df.describe()` por `df.head()` y nos imprimio el siguiente resultado\n",
    "\n",
    "```\n",
    "                                                full_text  favorites  \\\n",
    "id                                                                     \n",
    "183721  Flying home to run down from the power to comi...       23.0   \n",
    "183722                Today we commemorate and MNML Case.      500.0   \n",
    "183723       Today we have reached US$6.55 Billion TT$44…      190.0   \n",
    "183724  Faking It by Joel Atwell. Written by Other cou...      131.0   \n",
    "183725                                    Welcome back! 🙌      113.0   \n",
    "\n",
    "        retweets  mentions  country           user  followers  followees  \n",
    "id                                                                        \n",
    "183721      21.0      10.0  ECUADOR  leonardokuffo      389.0        258  \n",
    "183722      21.0      21.0   BRASIL  mateusmartins      982.0       1822  \n",
    "183723     123.0       6.0   MEXICO    pedrojuarez       12.0        129  \n",
    "183724      76.0       3.0  ECUADOR   galocastillo      332.0        378  \n",
    "183725     130.0       9.0   MEXICO    pedrojuarez       12.0        129  \n",
    "```\n",
    "mostrando las primeras 5 filas.\n",
    "Y cuando cambiamos `df.head()` por `df.tail()` nos imprimio el siguiente resultado\n",
    "\n",
    "```\n",
    "                                                full_text  favorites  \\\n",
    "id                                                                     \n",
    "183743                         Amazing video by Leonardo!      432.0   \n",
    "183744                                        Thanks man!      430.0   \n",
    "183745          There is nothing better than programming!      424.0   \n",
    "183746                                           BORED AF      488.0   \n",
    "183747  I do not know if i like programming or other t...      318.0   \n",
    "\n",
    "        retweets  mentions country             user  followers  followees  \n",
    "id                                                                         \n",
    "183743      95.0      18.0  BRASIL       lucasperes       82.0        351  \n",
    "183744     143.0      28.0  BRASIL       lucasperes       21.0        351  \n",
    "183745     110.0      29.0  BRASIL       lucasperes       82.0        351  \n",
    "183746      28.0      27.0  MEXICO  gabrielcarvajal       21.0       2721  \n",
    "183747      58.0      20.0  BRASIL  isabelladasilva      928.0       9918 \n",
    "```\n",
    "\n",
    "imprimiendo las ultimas 5 filas"
   ]
  },
  {
   "cell_type": "code",
   "execution_count": 10,
   "id": "86d066d8",
   "metadata": {},
   "outputs": [
    {
     "name": "stdout",
     "output_type": "stream",
     "text": [
      "                                                full_text  favorites  \\\n",
      "id                                                                     \n",
      "183721  Flying home to run down from the power to comi...       23.0   \n",
      "183722                Today we commemorate and MNML Case.      500.0   \n",
      "183723       Today we have reached US$6.55 Billion TT$44…      190.0   \n",
      "183724  Faking It by Joel Atwell. Written by Other cou...      131.0   \n",
      "183725                                    Welcome back! 🙌      113.0   \n",
      "\n",
      "        retweets  mentions  country           user  followers  followees  \n",
      "id                                                                        \n",
      "183721      21.0      10.0  ECUADOR  leonardokuffo      389.0        258  \n",
      "183722      21.0      21.0   BRASIL  mateusmartins      982.0       1822  \n",
      "183723     123.0       6.0   MEXICO    pedrojuarez       12.0        129  \n",
      "183724      76.0       3.0  ECUADOR   galocastillo      332.0        378  \n",
      "183725     130.0       9.0   MEXICO    pedrojuarez       12.0        129  \n"
     ]
    }
   ],
   "source": [
    "import pandas as pd\n",
    "df = pd.read_csv(\"D:\\\\UADER\\Tercero\\\\Ingenieria de software ll\\\\TP 2\\\\Code\\\\Code\\\\data\\\\dataset.csv\", index_col=\"id\")\n",
    "print(df.head())"
   ]
  },
  {
   "cell_type": "code",
   "execution_count": 11,
   "id": "dad4457f",
   "metadata": {},
   "outputs": [
    {
     "name": "stdout",
     "output_type": "stream",
     "text": [
      "                                                full_text  favorites  \\\n",
      "id                                                                     \n",
      "183743                         Amazing video by Leonardo!      432.0   \n",
      "183744                                        Thanks man!      430.0   \n",
      "183745          There is nothing better than programming!      424.0   \n",
      "183746                                           BORED AF      488.0   \n",
      "183747  I do not know if i like programming or other t...      318.0   \n",
      "\n",
      "        retweets  mentions country             user  followers  followees  \n",
      "id                                                                         \n",
      "183743      95.0      18.0  BRASIL       lucasperes       82.0        351  \n",
      "183744     143.0      28.0  BRASIL       lucasperes       21.0        351  \n",
      "183745     110.0      29.0  BRASIL       lucasperes       82.0        351  \n",
      "183746      28.0      27.0  MEXICO  gabrielcarvajal       21.0       2721  \n",
      "183747      58.0      20.0  BRASIL  isabelladasilva      928.0       9918  \n"
     ]
    }
   ],
   "source": [
    "import pandas as pd\n",
    "df = pd.read_csv(\"D:\\\\UADER\\Tercero\\\\Ingenieria de software ll\\\\TP 2\\\\Code\\\\Code\\\\data\\\\dataset.csv\", index_col=\"id\")\n",
    "print(df.tail())"
   ]
  }
 ],
 "metadata": {
  "kernelspec": {
   "display_name": "Python 3 (ipykernel)",
   "language": "python",
   "name": "python3"
  },
  "language_info": {
   "codemirror_mode": {
    "name": "ipython",
    "version": 3
   },
   "file_extension": ".py",
   "mimetype": "text/x-python",
   "name": "python",
   "nbconvert_exporter": "python",
   "pygments_lexer": "ipython3",
   "version": "3.10.4"
  }
 },
 "nbformat": 4,
 "nbformat_minor": 5
}
